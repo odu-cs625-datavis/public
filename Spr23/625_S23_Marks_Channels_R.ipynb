{
  "nbformat": 4,
  "nbformat_minor": 0,
  "metadata": {
    "colab": {
      "name": "625-F21-Marks-Channels-R.ipynb",
      "provenance": [],
      "collapsed_sections": [],
      "authorship_tag": "ABX9TyPGG9IJYhxdp1UzrpLsS5dB",
      "include_colab_link": true
    },
    "kernelspec": {
      "name": "ir",
      "display_name": "R"
    }
  },
  "cells": [
    {
      "cell_type": "markdown",
      "metadata": {
        "id": "view-in-github",
        "colab_type": "text"
      },
      "source": [
        "<a href=\"https://colab.research.google.com/github/odu-cs625-datavis/public/blob/main/fall21/625_F21_Marks_Channels_R.ipynb\" target=\"_parent\"><img src=\"https://colab.research.google.com/assets/colab-badge.svg\" alt=\"Open In Colab\"/></a>"
      ]
    },
    {
      "cell_type": "markdown",
      "metadata": {
        "id": "QzFjNkPdOLIN"
      },
      "source": [
        "# Marks and Channels in R Tutorial / CS 625, Spring 2023\n",
        "\n",
        "## R for Data Science\n",
        "\n",
        "We'll follow the [R for Data Science data visualization](https://r4ds.had.co.nz/data-visualisation.html) tutorial.  Since you've already worked through Sections 3.1-3.2 (in HW1), we'll start with [Section 3.3 (Aesthetic mappings)](https://r4ds.had.co.nz/data-visualisation.html#aesthetic-mappings).  We're just going to focus on basic marks and channels for now.\n",
        "\n",
        "References:\n",
        "* point marks - https://ggplot2.tidyverse.org/reference/geom_point.html\n",
        "* bar chart - https://ggplot2.tidyverse.org/reference/geom_bar.html\n",
        "* line mark - https://ggplot2.tidyverse.org/reference/geom_path.html\n",
        "\n",
        "There are a couple ways you can get setup for this:\n",
        "* Using RStudio - Create a new repo in GitHub for your work and open the project in RStudio (this should be similar to what you did in HW1).  Create a new file in RStudio to work through the tutorial.  \n",
        "* Using Google Colab - save a copy of this file to your own Google Drive and make edits here."
      ]
    },
    {
      "cell_type": "markdown",
      "metadata": {
        "id": "BazqAIFoOyfe"
      },
      "source": [
        "First step is to load the required packages.  For these charts, we don't need the full tidyverse set, just ggplot2.  And then we're going to select the black and white theme as default and adjust the font size and size of the charts."
      ]
    },
    {
      "cell_type": "code",
      "metadata": {
        "id": "jCNvg2p75NN8"
      },
      "source": [
        "library(ggplot2)\n",
        "theme_set(theme_bw() +      # selects a black and white theme\n",
        "  theme(text = element_text(size = 20)))  # sets a 20pt font for labels\n",
        "options(repr.plot.width = 10, repr.plot.height = 6)  # sets the chart size for the notebook"
      ],
      "execution_count": null,
      "outputs": []
    },
    {
      "cell_type": "markdown",
      "metadata": {
        "id": "y0TA8nMAPFmz"
      },
      "source": [
        "**[Section 3.3 (Aesthetic mappings)](https://r4ds.had.co.nz/data-visualisation.html#aesthetic-mappings)**"
      ]
    },
    {
      "cell_type": "markdown",
      "metadata": {
        "id": "s51ejvjViX2D"
      },
      "source": [
        "This tutorial uses the `mpg` dataset.  The first chart shown is a scatterplot of hwy MPG vs. displacement.  In this scatterplot, we map `displ` to horizontal position (x-axis) and `hwy` to vertical position (y-axis)."
      ]
    },
    {
      "cell_type": "code",
      "metadata": {
        "id": "y3JAikcPikXA"
      },
      "source": [
        "ggplot(data = mpg) +\n",
        "  geom_point(mapping = aes(x=displ, y=hwy))"
      ],
      "execution_count": null,
      "outputs": []
    },
    {
      "cell_type": "markdown",
      "metadata": {
        "id": "DlfWyHs5PLHq"
      },
      "source": [
        "\"You can add a third variable, like `class`, to a two dimensional scatterplot by mapping it to an *aesthetic*. An aesthetic is a visual property of the objects in your plot.\" (This is a *channel* in *VAD* terminology.)\n",
        "\n",
        "\"You can convey information about your data by mapping the aesthetics in your plot to the variables in your dataset. For example, you can map the colors of your points to the class variable to reveal the class of each car.\""
      ]
    },
    {
      "cell_type": "code",
      "metadata": {
        "id": "b1TM0beRPN_5"
      },
      "source": [
        "ggplot(data = mpg) + \n",
        "  geom_point(mapping = aes(x = displ, y = hwy, color = class))"
      ],
      "execution_count": null,
      "outputs": []
    },
    {
      "cell_type": "markdown",
      "metadata": {
        "id": "YI5PMAaSPULw"
      },
      "source": [
        "\"In the above example, we mapped class to the color aesthetic, but we could have mapped class to the size aesthetic in the same way. In this case, the exact size of each point would reveal its class affiliation. We get a warning here, because mapping an unordered variable (class) to an ordered aesthetic (size) is not a good idea.\""
      ]
    },
    {
      "cell_type": "code",
      "metadata": {
        "id": "i84Ev-stPXgQ"
      },
      "source": [
        "ggplot(data = mpg) + \n",
        "  geom_point(mapping = aes(x = displ, y = hwy, size = class))"
      ],
      "execution_count": null,
      "outputs": []
    },
    {
      "cell_type": "markdown",
      "metadata": {
        "id": "g1xMzUhDkgOX"
      },
      "source": [
        "**Q1:** *What principle (from Ch 5 in VAD) is being violated in this example?*"
      ]
    },
    {
      "cell_type": "markdown",
      "metadata": {
        "id": "HW0CAcHyPej4"
      },
      "source": [
        "\"Or we could have mapped class to the alpha aesthetic, which controls the transparency of the points, or to the shape aesthetic, which controls the shape of the points.\""
      ]
    },
    {
      "cell_type": "code",
      "metadata": {
        "id": "usZOW-4BPhMY"
      },
      "source": [
        "ggplot(data = mpg) + \n",
        "  geom_point(mapping = aes(x = displ, y = hwy, alpha = class))"
      ],
      "execution_count": null,
      "outputs": []
    },
    {
      "cell_type": "code",
      "metadata": {
        "id": "iFX6lVBjPld2"
      },
      "source": [
        "ggplot(data = mpg) + \n",
        "  geom_point(mapping = aes(x = displ, y = hwy, shape = class))"
      ],
      "execution_count": null,
      "outputs": []
    },
    {
      "cell_type": "markdown",
      "metadata": {
        "id": "x3CovX0Jk67X"
      },
      "source": [
        "**Q2:** *What principle (from Ch 5 in VAD) is being violated in this example?*"
      ]
    },
    {
      "cell_type": "markdown",
      "metadata": {
        "id": "fstONtKKPrqO"
      },
      "source": [
        "\"You can also set the aesthetic properties of your geom manually. For example, we can make all of the points in our plot blue. Here, the color doesn't convey information about a variable, but only changes the appearance of the plot. To set an aesthetic manually, set the aesthetic by name as an argument of your `geom` function, *outside* of `aes()`.\""
      ]
    },
    {
      "cell_type": "code",
      "metadata": {
        "id": "7ckxeNjEPt5v"
      },
      "source": [
        "ggplot(data = mpg) + \n",
        "  geom_point(mapping = aes(x = displ, y = hwy), color = \"blue\")"
      ],
      "execution_count": null,
      "outputs": []
    },
    {
      "cell_type": "markdown",
      "metadata": {
        "id": "jg4jk1rh6AEv"
      },
      "source": [
        "## Charts from Vega-Lite Examples\n",
        "\n",
        "Now, we're going to grab the gapminder data from Vega datasets and do the same charts that we did in the Vega-Lite tutorial.\n",
        "\n",
        "First, we need to load a library that can read in JSON and then read in the data file."
      ]
    },
    {
      "cell_type": "code",
      "metadata": {
        "id": "DLzzaPDR6QbL"
      },
      "source": [
        "library(jsonlite)"
      ],
      "execution_count": null,
      "outputs": []
    },
    {
      "cell_type": "code",
      "metadata": {
        "id": "wPh3EnWT6Tls"
      },
      "source": [
        "gapminder <- fromJSON(txt='https://raw.githubusercontent.com/vega/vega-datasets/master/data/gapminder.json')\n",
        "head(gapminder, 6)"
      ],
      "execution_count": null,
      "outputs": []
    },
    {
      "cell_type": "markdown",
      "metadata": {
        "id": "kr1E0c2T81mp"
      },
      "source": [
        "And now we're going to only grab information from 2000."
      ]
    },
    {
      "cell_type": "code",
      "metadata": {
        "id": "Ma9-bQMP86_0"
      },
      "source": [
        "data2000 <- gapminder[gapminder$year==2000,]\n",
        "head(data2000,6)"
      ],
      "execution_count": null,
      "outputs": []
    },
    {
      "cell_type": "markdown",
      "metadata": {
        "id": "YtITADFv7gAs"
      },
      "source": [
        "**Using X and Y encoding channels**\n",
        "\n",
        "This also shows a different way to specify the dataset and aesthetic.  Note that we don't have to include `data=` or `mapping=` and we can put the `aes()` function in `ggplot()` instead of the mark funtion.\n",
        "\n",
        "To make this look like the Vega-Lite chart, we're also making some adjustments:\n",
        "* changing the color of all shapes (not based on data), the shape, and the width of the line.\n",
        "  * list of available shapes: http://www.sthda.com/english/wiki/ggplot2-point-shapes\n",
        "* set the range of the x-axis\n",
        "* set the range and the interval for the tick marks on the y-axis"
      ]
    },
    {
      "cell_type": "code",
      "metadata": {
        "id": "yfIbclBco6sP"
      },
      "source": [
        "options(repr.plot.width = 10, repr.plot.height = 6)  # sets the chart size for the notebook\n",
        "theme_set(theme_light() +\n",
        "  theme(text = element_text(size = 20)))"
      ],
      "execution_count": null,
      "outputs": []
    },
    {
      "cell_type": "code",
      "metadata": {
        "id": "ZYKJwBdr7mCi"
      },
      "source": [
        "ggplot(data2000, aes(x = fertility, y = life_expect)) + \n",
        "  geom_point(color='steelblue', shape=1, stroke=0.8) +\n",
        "  coord_cartesian(xlim = c(0, 8), expand = FALSE) + \n",
        "  scale_y_continuous(limits=c(0,90), breaks = seq(0, 90, by = 10)) "
      ],
      "execution_count": null,
      "outputs": []
    },
    {
      "cell_type": "markdown",
      "metadata": {
        "id": "t24w7RJv_1pf"
      },
      "source": [
        "**Size**"
      ]
    },
    {
      "cell_type": "markdown",
      "metadata": {
        "id": "QlZLs2J1ABRI"
      },
      "source": [
        "To add size, we just need to specify it in the `aes()` function."
      ]
    },
    {
      "cell_type": "code",
      "metadata": {
        "id": "NP75wy9Q_2-N"
      },
      "source": [
        "ggplot(data2000, aes(x = fertility, y = life_expect, size=pop)) + \n",
        "  geom_point(color='steelblue', shape=1, stroke=0.8) +\n",
        "  coord_cartesian(xlim = c(0, 8), expand = FALSE) + \n",
        "  scale_y_continuous(limits=c(0,90), breaks = seq(0, 90, by = 10)) "
      ],
      "execution_count": null,
      "outputs": []
    },
    {
      "cell_type": "markdown",
      "metadata": {
        "id": "0fm-qpfjVrwA"
      },
      "source": [
        "**Color**\n",
        "\n",
        "To color the points by cluster, we need to use the `factor()` function to represent the integer column as categorical (and remove the `color='steelblue'` parameter from `geom_point()`)."
      ]
    },
    {
      "cell_type": "code",
      "metadata": {
        "id": "FeMyvoAdVuGQ"
      },
      "source": [
        "ggplot(data2000, aes(x = fertility, y = life_expect, size=pop, color=factor(cluster))) + \n",
        "  geom_point(shape=1, stroke=0.8) +\n",
        "  coord_cartesian(xlim = c(0, 8), expand = FALSE) + \n",
        "  scale_y_continuous(limits=c(0,90), breaks = seq(0, 90, by = 10)) "
      ],
      "execution_count": null,
      "outputs": []
    },
    {
      "cell_type": "markdown",
      "metadata": {
        "id": "4mAS_P5MSBrr"
      },
      "source": [
        "**Bar chart**"
      ]
    },
    {
      "cell_type": "code",
      "metadata": {
        "id": "kZ2u7XCiEvwp"
      },
      "source": [
        "# If you want to not use scientific notation, uncomment next line\n",
        "#options(scipen=999) \n",
        "\n",
        "ggplot(data2000, aes(x=country, y=pop)) +\n",
        "  geom_col(fill=\"steelblue\")"
      ],
      "execution_count": null,
      "outputs": []
    },
    {
      "cell_type": "markdown",
      "metadata": {
        "id": "feprtSMAG8CH"
      },
      "source": [
        "We can also change the plot size so that it's wider and turn the xlabels sideways."
      ]
    },
    {
      "cell_type": "code",
      "metadata": {
        "id": "HAiKo31DtIAC"
      },
      "source": [
        "options(repr.plot.width=12)  "
      ],
      "execution_count": null,
      "outputs": []
    },
    {
      "cell_type": "code",
      "metadata": {
        "id": "1jVDtAwxG-3I"
      },
      "source": [
        "ggplot(data2000, aes(x=country, y=pop)) +\n",
        "  geom_col(fill=\"steelblue\") + \n",
        "  theme(axis.text.x=element_text(angle=90, hjust=1))"
      ],
      "execution_count": null,
      "outputs": []
    },
    {
      "cell_type": "markdown",
      "metadata": {
        "id": "DF_VkN0NS75L"
      },
      "source": [
        "In addition to `geom_col()`, can also use `geom_bar(stat=\"identity\")`"
      ]
    },
    {
      "cell_type": "code",
      "metadata": {
        "id": "4yIBY2uhSiwm"
      },
      "source": [
        "ggplot(data2000, aes(x=country, y=pop)) +\n",
        "  geom_bar(fill=\"steelblue\", stat=\"identity\") +\n",
        "  theme(axis.text.x=element_text(angle=90, hjust=1))"
      ],
      "execution_count": null,
      "outputs": []
    },
    {
      "cell_type": "markdown",
      "metadata": {
        "id": "QvwPKZX-TRMH"
      },
      "source": [
        "**Line chart**\n",
        "\n",
        "We'll set the `show.legend` option to `FALSE` to prevent the legend from showing."
      ]
    },
    {
      "cell_type": "code",
      "metadata": {
        "id": "Bw-PKR4wJBmJ"
      },
      "source": [
        "ggplot(gapminder, aes(x=year, y=fertility, color=country)) + \n",
        "  geom_line(show.legend=FALSE) "
      ],
      "execution_count": null,
      "outputs": []
    },
    {
      "cell_type": "markdown",
      "metadata": {
        "id": "yloj-gS2WAgD"
      },
      "source": [
        "**Q3:** *Show only the lines from cluster 4 and include the legend.*\n",
        "\n",
        "**Create a new cell and enter the code below.**"
      ]
    }
  ]
}
