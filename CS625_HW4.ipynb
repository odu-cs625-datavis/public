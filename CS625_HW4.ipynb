{
  "nbformat": 4,
  "nbformat_minor": 0,
  "metadata": {
    "colab": {
      "provenance": [],
      "authorship_tag": "ABX9TyMP/LmGTrH/6Tsiy4zSCnKF",
      "include_colab_link": true
    },
    "kernelspec": {
      "name": "python3",
      "display_name": "Python 3"
    },
    "language_info": {
      "name": "python"
    }
  },
  "cells": [
    {
      "cell_type": "markdown",
      "metadata": {
        "id": "view-in-github",
        "colab_type": "text"
      },
      "source": [
        "<a href=\"https://colab.research.google.com/github/stephkmilonas/public/blob/main/CS625_HW4.ipynb\" target=\"_parent\"><img src=\"https://colab.research.google.com/assets/colab-badge.svg\" alt=\"Open In Colab\"/></a>"
      ]
    },
    {
      "cell_type": "markdown",
      "source": [
        "Stephanie Milonas\n",
        "\n",
        "CS 625 \n",
        "\n",
        "HW 4"
      ],
      "metadata": {
        "id": "vhs84Y0Kr-gO"
      }
    },
    {
      "cell_type": "code",
      "source": [
        "import pandas as pd\n",
        "import matplotlib.pyplot as plt\n",
        "import matplotlib.dates as mdates"
      ],
      "metadata": {
        "id": "kpDprvgIq_Ct"
      },
      "execution_count": 1,
      "outputs": []
    },
    {
      "cell_type": "markdown",
      "source": [
        "### Part 1\n",
        "\n",
        "Use dataset 1 to create a chart to answer the question, \"How has the weekly rate of COVID-19 cases in Virginia changed over time based on vaccination status?\". (Though I'll use cases here, you may show cases, hospitalizations, or deaths.)"
      ],
      "metadata": {
        "id": "CQ3P-cKGsF64"
      }
    },
    {
      "cell_type": "code",
      "source": [
        "df1 = pd.read_csv(\"./VDH-COVID-19-PublicUseDataset-Cases-by-Vaccination-Status.csv\")\n",
        "df1.head()"
      ],
      "metadata": {
        "colab": {
          "base_uri": "https://localhost:8080/",
          "height": 206
        },
        "id": "6nBqLQrprYI3",
        "outputId": "5da05a12-dfa3-4e5e-bd9a-afc60e4fc0cf"
      },
      "execution_count": 2,
      "outputs": [
        {
          "output_type": "execute_result",
          "data": {
            "text/plain": [
              "  Report Date Week Ending Date     Health Region    Vaccination Status  \\\n",
              "0  01/14/2022       01/01/2022    Central Region          Unvaccinated   \n",
              "1  01/14/2022       04/10/2021  Southwest Region  Partially Vaccinated   \n",
              "2  01/14/2022       11/20/2021  Southwest Region  Partially Vaccinated   \n",
              "3  01/14/2022       11/27/2021    Eastern Region          Unvaccinated   \n",
              "4  01/14/2022       03/13/2021  Southwest Region  Partially Vaccinated   \n",
              "\n",
              "   Infections  Hospitalizations  Deaths  Population Denominator  \n",
              "0       16650                51      13                 1973230  \n",
              "1          94                16       3                 1305740  \n",
              "2         146                 7       6                  761876  \n",
              "3        1225                52      21                 2254822  \n",
              "4         107                13       3                  782207  "
            ],
            "text/html": [
              "\n",
              "  <div id=\"df-4f3a3728-7c81-4fb7-8a23-588f0ef985a5\">\n",
              "    <div class=\"colab-df-container\">\n",
              "      <div>\n",
              "<style scoped>\n",
              "    .dataframe tbody tr th:only-of-type {\n",
              "        vertical-align: middle;\n",
              "    }\n",
              "\n",
              "    .dataframe tbody tr th {\n",
              "        vertical-align: top;\n",
              "    }\n",
              "\n",
              "    .dataframe thead th {\n",
              "        text-align: right;\n",
              "    }\n",
              "</style>\n",
              "<table border=\"1\" class=\"dataframe\">\n",
              "  <thead>\n",
              "    <tr style=\"text-align: right;\">\n",
              "      <th></th>\n",
              "      <th>Report Date</th>\n",
              "      <th>Week Ending Date</th>\n",
              "      <th>Health Region</th>\n",
              "      <th>Vaccination Status</th>\n",
              "      <th>Infections</th>\n",
              "      <th>Hospitalizations</th>\n",
              "      <th>Deaths</th>\n",
              "      <th>Population Denominator</th>\n",
              "    </tr>\n",
              "  </thead>\n",
              "  <tbody>\n",
              "    <tr>\n",
              "      <th>0</th>\n",
              "      <td>01/14/2022</td>\n",
              "      <td>01/01/2022</td>\n",
              "      <td>Central Region</td>\n",
              "      <td>Unvaccinated</td>\n",
              "      <td>16650</td>\n",
              "      <td>51</td>\n",
              "      <td>13</td>\n",
              "      <td>1973230</td>\n",
              "    </tr>\n",
              "    <tr>\n",
              "      <th>1</th>\n",
              "      <td>01/14/2022</td>\n",
              "      <td>04/10/2021</td>\n",
              "      <td>Southwest Region</td>\n",
              "      <td>Partially Vaccinated</td>\n",
              "      <td>94</td>\n",
              "      <td>16</td>\n",
              "      <td>3</td>\n",
              "      <td>1305740</td>\n",
              "    </tr>\n",
              "    <tr>\n",
              "      <th>2</th>\n",
              "      <td>01/14/2022</td>\n",
              "      <td>11/20/2021</td>\n",
              "      <td>Southwest Region</td>\n",
              "      <td>Partially Vaccinated</td>\n",
              "      <td>146</td>\n",
              "      <td>7</td>\n",
              "      <td>6</td>\n",
              "      <td>761876</td>\n",
              "    </tr>\n",
              "    <tr>\n",
              "      <th>3</th>\n",
              "      <td>01/14/2022</td>\n",
              "      <td>11/27/2021</td>\n",
              "      <td>Eastern Region</td>\n",
              "      <td>Unvaccinated</td>\n",
              "      <td>1225</td>\n",
              "      <td>52</td>\n",
              "      <td>21</td>\n",
              "      <td>2254822</td>\n",
              "    </tr>\n",
              "    <tr>\n",
              "      <th>4</th>\n",
              "      <td>01/14/2022</td>\n",
              "      <td>03/13/2021</td>\n",
              "      <td>Southwest Region</td>\n",
              "      <td>Partially Vaccinated</td>\n",
              "      <td>107</td>\n",
              "      <td>13</td>\n",
              "      <td>3</td>\n",
              "      <td>782207</td>\n",
              "    </tr>\n",
              "  </tbody>\n",
              "</table>\n",
              "</div>\n",
              "      <button class=\"colab-df-convert\" onclick=\"convertToInteractive('df-4f3a3728-7c81-4fb7-8a23-588f0ef985a5')\"\n",
              "              title=\"Convert this dataframe to an interactive table.\"\n",
              "              style=\"display:none;\">\n",
              "        \n",
              "  <svg xmlns=\"http://www.w3.org/2000/svg\" height=\"24px\"viewBox=\"0 0 24 24\"\n",
              "       width=\"24px\">\n",
              "    <path d=\"M0 0h24v24H0V0z\" fill=\"none\"/>\n",
              "    <path d=\"M18.56 5.44l.94 2.06.94-2.06 2.06-.94-2.06-.94-.94-2.06-.94 2.06-2.06.94zm-11 1L8.5 8.5l.94-2.06 2.06-.94-2.06-.94L8.5 2.5l-.94 2.06-2.06.94zm10 10l.94 2.06.94-2.06 2.06-.94-2.06-.94-.94-2.06-.94 2.06-2.06.94z\"/><path d=\"M17.41 7.96l-1.37-1.37c-.4-.4-.92-.59-1.43-.59-.52 0-1.04.2-1.43.59L10.3 9.45l-7.72 7.72c-.78.78-.78 2.05 0 2.83L4 21.41c.39.39.9.59 1.41.59.51 0 1.02-.2 1.41-.59l7.78-7.78 2.81-2.81c.8-.78.8-2.07 0-2.86zM5.41 20L4 18.59l7.72-7.72 1.47 1.35L5.41 20z\"/>\n",
              "  </svg>\n",
              "      </button>\n",
              "      \n",
              "  <style>\n",
              "    .colab-df-container {\n",
              "      display:flex;\n",
              "      flex-wrap:wrap;\n",
              "      gap: 12px;\n",
              "    }\n",
              "\n",
              "    .colab-df-convert {\n",
              "      background-color: #E8F0FE;\n",
              "      border: none;\n",
              "      border-radius: 50%;\n",
              "      cursor: pointer;\n",
              "      display: none;\n",
              "      fill: #1967D2;\n",
              "      height: 32px;\n",
              "      padding: 0 0 0 0;\n",
              "      width: 32px;\n",
              "    }\n",
              "\n",
              "    .colab-df-convert:hover {\n",
              "      background-color: #E2EBFA;\n",
              "      box-shadow: 0px 1px 2px rgba(60, 64, 67, 0.3), 0px 1px 3px 1px rgba(60, 64, 67, 0.15);\n",
              "      fill: #174EA6;\n",
              "    }\n",
              "\n",
              "    [theme=dark] .colab-df-convert {\n",
              "      background-color: #3B4455;\n",
              "      fill: #D2E3FC;\n",
              "    }\n",
              "\n",
              "    [theme=dark] .colab-df-convert:hover {\n",
              "      background-color: #434B5C;\n",
              "      box-shadow: 0px 1px 3px 1px rgba(0, 0, 0, 0.15);\n",
              "      filter: drop-shadow(0px 1px 2px rgba(0, 0, 0, 0.3));\n",
              "      fill: #FFFFFF;\n",
              "    }\n",
              "  </style>\n",
              "\n",
              "      <script>\n",
              "        const buttonEl =\n",
              "          document.querySelector('#df-4f3a3728-7c81-4fb7-8a23-588f0ef985a5 button.colab-df-convert');\n",
              "        buttonEl.style.display =\n",
              "          google.colab.kernel.accessAllowed ? 'block' : 'none';\n",
              "\n",
              "        async function convertToInteractive(key) {\n",
              "          const element = document.querySelector('#df-4f3a3728-7c81-4fb7-8a23-588f0ef985a5');\n",
              "          const dataTable =\n",
              "            await google.colab.kernel.invokeFunction('convertToInteractive',\n",
              "                                                     [key], {});\n",
              "          if (!dataTable) return;\n",
              "\n",
              "          const docLinkHtml = 'Like what you see? Visit the ' +\n",
              "            '<a target=\"_blank\" href=https://colab.research.google.com/notebooks/data_table.ipynb>data table notebook</a>'\n",
              "            + ' to learn more about interactive tables.';\n",
              "          element.innerHTML = '';\n",
              "          dataTable['output_type'] = 'display_data';\n",
              "          await google.colab.output.renderOutput(dataTable, element);\n",
              "          const docLink = document.createElement('div');\n",
              "          docLink.innerHTML = docLinkHtml;\n",
              "          element.appendChild(docLink);\n",
              "        }\n",
              "      </script>\n",
              "    </div>\n",
              "  </div>\n",
              "  "
            ]
          },
          "metadata": {},
          "execution_count": 2
        }
      ]
    },
    {
      "cell_type": "code",
      "source": [
        "df1['Health Region'].unique()"
      ],
      "metadata": {
        "colab": {
          "base_uri": "https://localhost:8080/"
        },
        "id": "Ecsgyu47IMCx",
        "outputId": "1fe457af-420c-40d8-b1ad-5d5e6e32721c"
      },
      "execution_count": 9,
      "outputs": [
        {
          "output_type": "execute_result",
          "data": {
            "text/plain": [
              "array(['Central Region', 'Southwest Region', 'Eastern Region',\n",
              "       'Northwest Region', 'Northern Region'], dtype=object)"
            ]
          },
          "metadata": {},
          "execution_count": 9
        }
      ]
    },
    {
      "cell_type": "code",
      "source": [
        "df1['Vaccination Status'].unique()"
      ],
      "metadata": {
        "colab": {
          "base_uri": "https://localhost:8080/"
        },
        "id": "NkoNJBXB-IK1",
        "outputId": "4fa80e93-0cd2-4c9e-a85f-2c7aaa8b9f84"
      },
      "execution_count": 3,
      "outputs": [
        {
          "output_type": "execute_result",
          "data": {
            "text/plain": [
              "array(['Unvaccinated', 'Partially Vaccinated', 'Fully Vaccinated'],\n",
              "      dtype=object)"
            ]
          },
          "metadata": {},
          "execution_count": 3
        }
      ]
    },
    {
      "cell_type": "code",
      "source": [
        "df1['Week Ending Date'] = pd.to_datetime(df1['Week Ending Date'])"
      ],
      "metadata": {
        "id": "rBOZ-WmhUj4f"
      },
      "execution_count": 4,
      "outputs": []
    },
    {
      "cell_type": "code",
      "source": [
        "df_un = df1[df1['Vaccination Status'] == 'Unvaccinated']\n",
        "df_un = df_un.groupby(['Week Ending Date'], as_index=False).sum()\n",
        "df_un['death_rate_per_100k'] = (df_un['Deaths'] / df_un['Population Denominator']) * 100000\n",
        "\n",
        "df_part = df1[df1['Vaccination Status'] == 'Partially Vaccinated']\n",
        "df_part = df_part.groupby(['Week Ending Date'], as_index=False).sum()\n",
        "df_part['death_rate_per_100k'] = (df_part['Deaths'] / df_part['Population Denominator']) * 100000\n",
        "\n",
        "df_full = df1[df1['Vaccination Status'] == 'Fully Vaccinated']\n",
        "df_full = df_full.groupby(['Week Ending Date'], as_index=False).sum()\n",
        "df_full['death_rate_per_100k'] = (df_full['Deaths'] / df_full['Population Denominator']) * 100000"
      ],
      "metadata": {
        "id": "kDYjYzCL-Oqf"
      },
      "execution_count": 5,
      "outputs": []
    },
    {
      "cell_type": "code",
      "source": [
        "x1 = df_un['Week Ending Date']\n",
        "y1 = df_un['death_rate_per_100k']\n",
        "\n",
        "x2 = df_part['Week Ending Date']\n",
        "y2 = df_part['death_rate_per_100k']\n",
        "\n",
        "x3 = df_full['Week Ending Date']\n",
        "y3 = df_full['death_rate_per_100k']\n",
        "\n",
        "plt.figure(figsize=(10,6))\n",
        "plt.plot(x1, y1, label='Unvaccinated')\n",
        "plt.plot(x2, y2, label='Partially Vaccinated')\n",
        "plt.plot(x3, y3, label='Fully Vaccinated')\n",
        "plt.title('Weekly COVID-19 Death Rate in VA based on Vaccination Status')\n",
        "plt.ylabel('Death Rate per 100k People')\n",
        "plt.xlabel('Date')\n",
        "plt.legend(loc=\"upper right\")\n",
        "# Weekplt.savefig('LineChart.png')\n",
        "plt.show()"
      ],
      "metadata": {
        "colab": {
          "base_uri": "https://localhost:8080/",
          "height": 404
        },
        "id": "QHXUTbJM6JNm",
        "outputId": "efcf909d-c64e-465e-a855-2d261d285d4a"
      },
      "execution_count": 8,
      "outputs": [
        {
          "output_type": "display_data",
          "data": {
            "text/plain": [
              "<Figure size 720x432 with 1 Axes>"
            ],
            "image/png": "[encoded data removed]"
          },
          "metadata": {
            "needs_background": "light"
          }
        }
      ]
    },
    {
      "cell_type": "markdown",
      "source": [
        "### Part 2\n",
        "\n",
        "Use dataset 2 to create a chart to answer the question, \"For each health district in Virginia, what proportion of all 1st doses were of the Pfizer vaccine?\". \n",
        "\n",
        "Remove or ignore the \"health districts\" labeled \"Out of State\" and \"Not Reported\".\n"
      ],
      "metadata": {
        "id": "Yl2XRdvBsG_S"
      }
    },
    {
      "cell_type": "code",
      "source": [
        "df2 = pd.read_csv(\"./VDH-COVID-19-PublicUseDataset-Vaccines-DosesAdministered.csv\")\n",
        "df2.head()"
      ],
      "metadata": {
        "colab": {
          "base_uri": "https://localhost:8080/",
          "height": 206
        },
        "id": "2ujjnSmQrjB-",
        "outputId": "67942696-106b-4f4e-bb3b-d6ebb6449f62"
      },
      "execution_count": null,
      "outputs": [
        {
          "output_type": "execute_result",
          "data": {
            "text/plain": [
              "  Administration Date          FIPS        Locality     Health District  \\\n",
              "0                 NaN  Not Reported    Not Reported        Not Reported   \n",
              "1          03/14/2021         51161  Roanoke County           Alleghany   \n",
              "2          03/20/2021         51003       Albemarle          Blue Ridge   \n",
              "3          03/09/2021         51678       Lexington  Central Shenandoah   \n",
              "4          03/10/2021         51510      Alexandria          Alexandria   \n",
              "\n",
              "   Facility Type Vaccine Manufacturer  Dose Number  \\\n",
              "0  Federal Doses        Non-Specified            1   \n",
              "1      Hospitals          AstraZeneca            1   \n",
              "2      Hospitals          AstraZeneca            1   \n",
              "3      Hospitals          AstraZeneca            1   \n",
              "4      Hospitals                  J&J            1   \n",
              "\n",
              "   Vaccine Doses Administered Count  \n",
              "0                            378385  \n",
              "1                                 1  \n",
              "2                                 1  \n",
              "3                                 1  \n",
              "4                                 3  "
            ],
            "text/html": [
              "\n",
              "  <div id=\"df-5740b5fa-2ffa-445b-bb91-17e067205a3d\">\n",
              "    <div class=\"colab-df-container\">\n",
              "      <div>\n",
              "<style scoped>\n",
              "    .dataframe tbody tr th:only-of-type {\n",
              "        vertical-align: middle;\n",
              "    }\n",
              "\n",
              "    .dataframe tbody tr th {\n",
              "        vertical-align: top;\n",
              "    }\n",
              "\n",
              "    .dataframe thead th {\n",
              "        text-align: right;\n",
              "    }\n",
              "</style>\n",
              "<table border=\"1\" class=\"dataframe\">\n",
              "  <thead>\n",
              "    <tr style=\"text-align: right;\">\n",
              "      <th></th>\n",
              "      <th>Administration Date</th>\n",
              "      <th>FIPS</th>\n",
              "      <th>Locality</th>\n",
              "      <th>Health District</th>\n",
              "      <th>Facility Type</th>\n",
              "      <th>Vaccine Manufacturer</th>\n",
              "      <th>Dose Number</th>\n",
              "      <th>Vaccine Doses Administered Count</th>\n",
              "    </tr>\n",
              "  </thead>\n",
              "  <tbody>\n",
              "    <tr>\n",
              "      <th>0</th>\n",
              "      <td>NaN</td>\n",
              "      <td>Not Reported</td>\n",
              "      <td>Not Reported</td>\n",
              "      <td>Not Reported</td>\n",
              "      <td>Federal Doses</td>\n",
              "      <td>Non-Specified</td>\n",
              "      <td>1</td>\n",
              "      <td>378385</td>\n",
              "    </tr>\n",
              "    <tr>\n",
              "      <th>1</th>\n",
              "      <td>03/14/2021</td>\n",
              "      <td>51161</td>\n",
              "      <td>Roanoke County</td>\n",
              "      <td>Alleghany</td>\n",
              "      <td>Hospitals</td>\n",
              "      <td>AstraZeneca</td>\n",
              "      <td>1</td>\n",
              "      <td>1</td>\n",
              "    </tr>\n",
              "    <tr>\n",
              "      <th>2</th>\n",
              "      <td>03/20/2021</td>\n",
              "      <td>51003</td>\n",
              "      <td>Albemarle</td>\n",
              "      <td>Blue Ridge</td>\n",
              "      <td>Hospitals</td>\n",
              "      <td>AstraZeneca</td>\n",
              "      <td>1</td>\n",
              "      <td>1</td>\n",
              "    </tr>\n",
              "    <tr>\n",
              "      <th>3</th>\n",
              "      <td>03/09/2021</td>\n",
              "      <td>51678</td>\n",
              "      <td>Lexington</td>\n",
              "      <td>Central Shenandoah</td>\n",
              "      <td>Hospitals</td>\n",
              "      <td>AstraZeneca</td>\n",
              "      <td>1</td>\n",
              "      <td>1</td>\n",
              "    </tr>\n",
              "    <tr>\n",
              "      <th>4</th>\n",
              "      <td>03/10/2021</td>\n",
              "      <td>51510</td>\n",
              "      <td>Alexandria</td>\n",
              "      <td>Alexandria</td>\n",
              "      <td>Hospitals</td>\n",
              "      <td>J&amp;J</td>\n",
              "      <td>1</td>\n",
              "      <td>3</td>\n",
              "    </tr>\n",
              "  </tbody>\n",
              "</table>\n",
              "</div>\n",
              "      <button class=\"colab-df-convert\" onclick=\"convertToInteractive('df-5740b5fa-2ffa-445b-bb91-17e067205a3d')\"\n",
              "              title=\"Convert this dataframe to an interactive table.\"\n",
              "              style=\"display:none;\">\n",
              "        \n",
              "  <svg xmlns=\"http://www.w3.org/2000/svg\" height=\"24px\"viewBox=\"0 0 24 24\"\n",
              "       width=\"24px\">\n",
              "    <path d=\"M0 0h24v24H0V0z\" fill=\"none\"/>\n",
              "    <path d=\"M18.56 5.44l.94 2.06.94-2.06 2.06-.94-2.06-.94-.94-2.06-.94 2.06-2.06.94zm-11 1L8.5 8.5l.94-2.06 2.06-.94-2.06-.94L8.5 2.5l-.94 2.06-2.06.94zm10 10l.94 2.06.94-2.06 2.06-.94-2.06-.94-.94-2.06-.94 2.06-2.06.94z\"/><path d=\"M17.41 7.96l-1.37-1.37c-.4-.4-.92-.59-1.43-.59-.52 0-1.04.2-1.43.59L10.3 9.45l-7.72 7.72c-.78.78-.78 2.05 0 2.83L4 21.41c.39.39.9.59 1.41.59.51 0 1.02-.2 1.41-.59l7.78-7.78 2.81-2.81c.8-.78.8-2.07 0-2.86zM5.41 20L4 18.59l7.72-7.72 1.47 1.35L5.41 20z\"/>\n",
              "  </svg>\n",
              "      </button>\n",
              "      \n",
              "  <style>\n",
              "    .colab-df-container {\n",
              "      display:flex;\n",
              "      flex-wrap:wrap;\n",
              "      gap: 12px;\n",
              "    }\n",
              "\n",
              "    .colab-df-convert {\n",
              "      background-color: #E8F0FE;\n",
              "      border: none;\n",
              "      border-radius: 50%;\n",
              "      cursor: pointer;\n",
              "      display: none;\n",
              "      fill: #1967D2;\n",
              "      height: 32px;\n",
              "      padding: 0 0 0 0;\n",
              "      width: 32px;\n",
              "    }\n",
              "\n",
              "    .colab-df-convert:hover {\n",
              "      background-color: #E2EBFA;\n",
              "      box-shadow: 0px 1px 2px rgba(60, 64, 67, 0.3), 0px 1px 3px 1px rgba(60, 64, 67, 0.15);\n",
              "      fill: #174EA6;\n",
              "    }\n",
              "\n",
              "    [theme=dark] .colab-df-convert {\n",
              "      background-color: #3B4455;\n",
              "      fill: #D2E3FC;\n",
              "    }\n",
              "\n",
              "    [theme=dark] .colab-df-convert:hover {\n",
              "      background-color: #434B5C;\n",
              "      box-shadow: 0px 1px 3px 1px rgba(0, 0, 0, 0.15);\n",
              "      filter: drop-shadow(0px 1px 2px rgba(0, 0, 0, 0.3));\n",
              "      fill: #FFFFFF;\n",
              "    }\n",
              "  </style>\n",
              "\n",
              "      <script>\n",
              "        const buttonEl =\n",
              "          document.querySelector('#df-5740b5fa-2ffa-445b-bb91-17e067205a3d button.colab-df-convert');\n",
              "        buttonEl.style.display =\n",
              "          google.colab.kernel.accessAllowed ? 'block' : 'none';\n",
              "\n",
              "        async function convertToInteractive(key) {\n",
              "          const element = document.querySelector('#df-5740b5fa-2ffa-445b-bb91-17e067205a3d');\n",
              "          const dataTable =\n",
              "            await google.colab.kernel.invokeFunction('convertToInteractive',\n",
              "                                                     [key], {});\n",
              "          if (!dataTable) return;\n",
              "\n",
              "          const docLinkHtml = 'Like what you see? Visit the ' +\n",
              "            '<a target=\"_blank\" href=https://colab.research.google.com/notebooks/data_table.ipynb>data table notebook</a>'\n",
              "            + ' to learn more about interactive tables.';\n",
              "          element.innerHTML = '';\n",
              "          dataTable['output_type'] = 'display_data';\n",
              "          await google.colab.output.renderOutput(dataTable, element);\n",
              "          const docLink = document.createElement('div');\n",
              "          docLink.innerHTML = docLinkHtml;\n",
              "          element.appendChild(docLink);\n",
              "        }\n",
              "      </script>\n",
              "    </div>\n",
              "  </div>\n",
              "  "
            ]
          },
          "metadata": {},
          "execution_count": 190
        }
      ]
    },
    {
      "cell_type": "code",
      "source": [
        "len(df2)"
      ],
      "metadata": {
        "colab": {
          "base_uri": "https://localhost:8080/"
        },
        "id": "fASA3lMqsi-J",
        "outputId": "d7ae0df3-bf8f-4a4c-8555-870883e923c2"
      },
      "execution_count": null,
      "outputs": [
        {
          "output_type": "execute_result",
          "data": {
            "text/plain": [
              "1033534"
            ]
          },
          "metadata": {},
          "execution_count": 185
        }
      ]
    },
    {
      "cell_type": "code",
      "source": [
        "df2.drop(df2[df2['Health District'] == 'Out of State'].index, inplace=True)\n",
        "df2.drop(df2[df2['Health District'] == 'Not Reported'].index, inplace=True)"
      ],
      "metadata": {
        "id": "pMSfB1dgXXx9"
      },
      "execution_count": null,
      "outputs": []
    },
    {
      "cell_type": "code",
      "source": [
        "len(df2)"
      ],
      "metadata": {
        "colab": {
          "base_uri": "https://localhost:8080/"
        },
        "id": "vW1vPBSisGaw",
        "outputId": "970c9e86-05d5-46e6-81c3-ceaea02867f1"
      },
      "execution_count": null,
      "outputs": [
        {
          "output_type": "execute_result",
          "data": {
            "text/plain": [
              "990605"
            ]
          },
          "metadata": {},
          "execution_count": 192
        }
      ]
    },
    {
      "cell_type": "code",
      "source": [
        "df2.to_csv('data2.csv', index=False)"
      ],
      "metadata": {
        "id": "KZuiW_GAeAyP"
      },
      "execution_count": null,
      "outputs": []
    }
  ]
}